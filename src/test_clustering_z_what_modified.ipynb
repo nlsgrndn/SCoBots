{
 "cells": [
  {
   "cell_type": "code",
   "execution_count": 1,
   "metadata": {},
   "outputs": [],
   "source": [
    "import matplotlib.pyplot as plt\n",
    "import sys\n",
    "import numpy as np\n",
    "\n",
    "from engine.utils import get_config\n",
    "from engine.train import train\n",
    "from engine.eval import eval\n",
    "from engine.show import show\n",
    "\n",
    "%matplotlib inline"
   ]
  },
  {
   "cell_type": "code",
   "execution_count": 26,
   "metadata": {},
   "outputs": [],
   "source": [
    "\"\"\"\n",
    "Just for jupyter notebook\n",
    "\"\"\"\n",
    "import os\n",
    "import argparse\n",
    "from argparse import ArgumentParser\n",
    "from config import cfg\n",
    "\n",
    "def get_config():\n",
    "    parser = ArgumentParser()\n",
    "    parser.add_argument(\n",
    "        '--task',\n",
    "        type=str,\n",
    "        default='train',\n",
    "        metavar='TASK',\n",
    "        help='What to do. See engine'\n",
    "    )\n",
    "    parser.add_argument(\n",
    "        '--config-file',\n",
    "        type=str,\n",
    "        default='',\n",
    "        metavar='FILE',\n",
    "        help='Path to config file'\n",
    "    )\n",
    "    \n",
    "    parser.add_argument(\n",
    "        'opts',\n",
    "        help='Modify config options using the command line',\n",
    "        default=None,\n",
    "        nargs=argparse.REMAINDER\n",
    "    )\n",
    "    args = parser.parse_args('')\n",
    "    \n",
    "    args.task = \"eval\"\n",
    "    args.config_file = \"configs/my_atari_pong.yaml\"\n",
    "    args.opts = ['resume', True, 'resume_ckpt', '../old_models/model_000005001.pth', 'device', 'cpu']\n",
    "    \n",
    "    if args.config_file:\n",
    "        cfg.merge_from_file(args.config_file)\n",
    "    if args.opts:\n",
    "        cfg.merge_from_list(args.opts)\n",
    "    \n",
    "    # Use config file name as the default experiment name\n",
    "    if cfg.exp_name == '':\n",
    "        if args.config_file:\n",
    "            cfg.exp_name = os.path.splitext(os.path.basename(args.config_file))[0]\n",
    "        else:\n",
    "            raise ValueError('exp_name cannot be empty without specifying a config file')\n",
    "        \n",
    "    # Seed\n",
    "    import torch\n",
    "    torch.manual_seed(cfg.seed)\n",
    "    torch.backends.cudnn.deterministic = True\n",
    "    torch.backends.cudnn.benchmark = False\n",
    "    import numpy as np\n",
    "    np.random.seed(cfg.seed)\n",
    "    \n",
    "    return cfg, args.task\n",
    "\n",
    "\n",
    "cfg, task = get_config()"
   ]
  },
  {
   "cell_type": "code",
   "execution_count": 27,
   "metadata": {},
   "outputs": [],
   "source": [
    "from model import get_model\n",
    "from vis import get_vislogger\n",
    "from dataset import get_dataset, get_dataloader\n",
    "from utils import Checkpointer\n",
    "import os\n",
    "import os.path as osp\n",
    "from torch import nn\n",
    "from torch.utils.data import Subset, DataLoader\n",
    "\n",
    "BATCH_SIZE=1"
   ]
  },
  {
   "cell_type": "code",
   "execution_count": 28,
   "metadata": {},
   "outputs": [
    {
     "name": "stdout",
     "output_type": "stream",
     "text": [
      "arch.area_object_weight=10.0\n",
      "Listfile: ../output/checkpoints/final/pong/model_list.pkl\n",
      "\u001b[94mCheckpoint \"../old_models/model_000005001.pth\" loaded.\u001b[0m\n"
     ]
    }
   ],
   "source": [
    "model = get_model(cfg)\n",
    "model = model.to(cfg.device)\n",
    "model.eval()\n",
    "checkpointer = Checkpointer(osp.join(cfg.checkpointdir, cfg.exp_name), max_num=cfg.train.max_ckpt)\n",
    "if cfg.resume_ckpt:\n",
    "    checkpoint = checkpointer.load(cfg.resume_ckpt, model, None, None, cfg.device)\n",
    "\n",
    "dataset = get_dataset(cfg, cfg.show.mode)\n",
    "dataloader = DataLoader(dataset, batch_size=BATCH_SIZE, num_workers=0, shuffle=False)"
   ]
  },
  {
   "cell_type": "code",
   "execution_count": 79,
   "metadata": {},
   "outputs": [
    {
     "name": "stdout",
     "output_type": "stream",
     "text": [
      "torch.Size([1, 4, 3, 128, 128])\n",
      "torch.Size([1, 4, 128, 128])\n",
      "torch.Size([1, 4, 256, 1])\n",
      "torch.Size([1, 4, 256, 4])\n"
     ]
    }
   ],
   "source": [
    "# for i, imgs in enumerate(dataloader):\n",
    "imgs = next(iter(dataloader))\n",
    "for i in range(len(imgs)):\n",
    "    print(imgs[i].shape)\n",
    "    imgs[i] = imgs[i].to(cfg.device)"
   ]
  },
  {
   "cell_type": "code",
   "execution_count": 80,
   "metadata": {},
   "outputs": [],
   "source": [
    "# TODO: treat global_step in a more elegant way\n",
    "loss, log = model(*imgs, global_step=100000000)"
   ]
  },
  {
   "cell_type": "code",
   "execution_count": 31,
   "metadata": {},
   "outputs": [
    {
     "name": "stdout",
     "output_type": "stream",
     "text": [
      "dict_keys(['imgs', 'y', 'mse', 'log_like', 'loss', 'fg', 'z_what', 'z_where', 'z_where_pure', 'z_pres', 'z_depth', 'motion_z_pres', 'motion_z_where', 'z_pres_prob', 'z_pres_prob_pure', 'prior_z_pres_prob', 'o_att', 'alpha_att_hat', 'alpha_att', 'alpha_map', 'alpha_map_pure', 'importance_map_full_res_norm', 'z_scale', 'z_shift', 'kl_z_what', 'kl_z_pres', 'kl_z_scale', 'kl_z_shift', 'kl_z_depth', 'kl_z_where', 'comps', 'masks', 'bg', 'kl_bg'])\n"
     ]
    }
   ],
   "source": [
    "print(log.keys())"
   ]
  },
  {
   "cell_type": "code",
   "execution_count": 81,
   "metadata": {},
   "outputs": [],
   "source": [
    "# (B, N, 4), (B, N, 1), (B, N, D)\n",
    "z_where, z_pres_prob, z_what = log['z_where'], log['z_pres_prob'], log['z_what']\n",
    "# (B, N, 4), (B, N), (B, N)\n",
    "z_where = z_where.detach().cpu()\n",
    "\n",
    "z_pres_prob = z_pres_prob.detach().cpu()\n",
    "# TODO: look at this\n",
    "z_pres = z_pres_prob > 0.5"
   ]
  },
  {
   "cell_type": "code",
   "execution_count": 82,
   "metadata": {},
   "outputs": [
    {
     "name": "stdout",
     "output_type": "stream",
     "text": [
      "torch.Size([4, 256, 1]) torch.Size([4, 256, 1])\n"
     ]
    }
   ],
   "source": [
    "print(z_pres_prob.shape, z_pres.shape)\n"
   ]
  },
  {
   "cell_type": "code",
   "execution_count": 83,
   "metadata": {},
   "outputs": [
    {
     "name": "stdout",
     "output_type": "stream",
     "text": [
      "torch.Size([4, 256, 32])\n"
     ]
    }
   ],
   "source": [
    "\n",
    "\n",
    "z_what_pres = z_what*z_pres\n",
    "print(z_what_pres.shape)"
   ]
  },
  {
   "cell_type": "code",
   "execution_count": 84,
   "metadata": {},
   "outputs": [
    {
     "name": "stdout",
     "output_type": "stream",
     "text": [
      "torch.Size([6, 4])\n",
      "torch.Size([7, 4])\n",
      "torch.Size([6, 4])\n",
      "torch.Size([7, 4])\n"
     ]
    }
   ],
   "source": [
    "# How to concert the z_where to true x, y positions (here in bounding boxes)\n",
    "# see convert_to_boxes for more info:\n",
    "# boxes_batch = convert_to_boxes(z_where, z_pres, z_pres_prob)\n",
    "import torch\n",
    "from eval.ap import read_boxes, convert_to_boxes, compute_ap, compute_counts\n",
    "\n",
    "boxes_batch = convert_to_boxes(z_where, z_pres.squeeze(-1), z_pres_prob.squeeze(-1))\n",
    "# each (B, N, 1)\n",
    "# width, height, center_x, center_y = torch.split(z_where, 1, dim=-1)\n",
    "# center_x = (center_x + 1.0) / 2.0\n",
    "# center_y = (center_y + 1.0) / 2.0\n",
    "# x_min = center_x - width / 2\n",
    "# x_max = center_x + width / 2\n",
    "# y_min = center_y - height / 2\n",
    "# y_max = center_y + height / 2\n",
    "\n",
    "# # (B, N, 4)\n",
    "# pos = torch.cat([y_min, y_max, x_min, x_max], dim=-1)\n",
    "y_min, y_max, x_min, x_max = boxes_batch[0][0]"
   ]
  },
  {
   "cell_type": "code",
   "execution_count": 85,
   "metadata": {},
   "outputs": [],
   "source": [
    "for i in range(len(imgs)):\n",
    "    imgs[i] = imgs[i][0][0]"
   ]
  },
  {
   "cell_type": "code",
   "execution_count": null,
   "metadata": {},
   "outputs": [],
   "source": []
  },
  {
   "cell_type": "code",
   "execution_count": 86,
   "metadata": {},
   "outputs": [
    {
     "name": "stdout",
     "output_type": "stream",
     "text": [
      "(6, 4)\n"
     ]
    },
    {
     "data": {
      "image/png": "[encoded data removed]",
      "text/plain": [
       "<Figure size 640x480 with 1 Axes>"
      ]
     },
     "metadata": {},
     "output_type": "display_data"
    }
   ],
   "source": [
    "from utils import show_image\n",
    "from torchvision.utils import draw_bounding_boxes\n",
    "image = (imgs[0] * 255).round().to(torch.uint8)\n",
    "colors = [(255, 0, 0), (0, 255, 0), (0, 0, 255), (255, 255, 0), (255, 0, 255), \n",
    "          (0, 255, 255), (255, 100, 100), (100, 100, 100), (100, 100, 255), (100, 200, 100)] * 10\n",
    "bb = (boxes_batch[0][:,:] * 128).round()\n",
    "print(bb.shape)\n",
    "bb[:,[0, 1, 2, 3]] = bb[:,[2, 0, 3, 1]] # swapping xmin <-> ymax ... etc\n",
    "image = draw_bounding_boxes(image, torch.tensor(bb)[0:40], colors=colors)\n",
    "show_image(image)"
   ]
  },
  {
   "cell_type": "markdown",
   "metadata": {},
   "source": [
    "### TSNE"
   ]
  },
  {
   "cell_type": "code",
   "execution_count": 61,
   "metadata": {},
   "outputs": [
    {
     "name": "stdout",
     "output_type": "stream",
     "text": [
      "torch.Size([7, 32])\n"
     ]
    }
   ],
   "source": [
    "z_what_pres_copy = z_what_pres[1]\n",
    "z_what_pres_copy = z_what_pres_copy[z_what_pres_copy!=0].view(-1, 32)\n",
    "print(z_what_pres_copy.shape)"
   ]
  },
  {
   "cell_type": "code",
   "execution_count": 65,
   "metadata": {},
   "outputs": [],
   "source": [
    "from sklearn.manifold import TSNE\n",
    "perplexity = 30 if z_what_pres_copy.shape[0] > 30 else z_what_pres_copy.shape[0]//2\n",
    "z_what_pres_emb = TSNE(n_components=2,perplexity=perplexity).fit_transform(z_what_pres_copy.detach().cpu().numpy())"
   ]
  },
  {
   "cell_type": "code",
   "execution_count": 66,
   "metadata": {},
   "outputs": [
    {
     "name": "stdout",
     "output_type": "stream",
     "text": [
      "(7, 2)\n"
     ]
    }
   ],
   "source": [
    "print(z_what_pres_emb.shape)"
   ]
  },
  {
   "cell_type": "code",
   "execution_count": 67,
   "metadata": {},
   "outputs": [
    {
     "data": {
      "image/png": "[encoded data removed]",
      "text/plain": [
       "<Figure size 640x480 with 1 Axes>"
      ]
     },
     "metadata": {},
     "output_type": "display_data"
    }
   ],
   "source": [
    "fig, ax = plt.subplots(1, 1)\n",
    "ax.scatter(z_what_pres_emb[:, 0], z_what_pres_emb[:, 1])\n",
    "plt.show()"
   ]
  },
  {
   "cell_type": "markdown",
   "metadata": {},
   "source": [
    "### PCA"
   ]
  },
  {
   "cell_type": "code",
   "execution_count": 68,
   "metadata": {},
   "outputs": [
    {
     "name": "stdout",
     "output_type": "stream",
     "text": [
      "torch.Size([4, 256, 32])\n"
     ]
    }
   ],
   "source": [
    "from sklearn.decomposition import PCA\n",
    "pca = PCA(n_components=2)\n",
    "print(z_what_pres.shape)\n",
    "z_what_pres_emb = pca.fit_transform(z_what_pres_copy.detach().cpu().numpy())"
   ]
  },
  {
   "cell_type": "code",
   "execution_count": 70,
   "metadata": {},
   "outputs": [
    {
     "data": {
      "image/png": "[encoded data removed]",
      "text/plain": [
       "<Figure size 640x480 with 1 Axes>"
      ]
     },
     "metadata": {},
     "output_type": "display_data"
    }
   ],
   "source": [
    "fig, ax = plt.subplots(1, 1)\n",
    "ax.scatter(z_what_pres_emb[:, 0], z_what_pres_emb[:, 1], c=np.array(colors[:7])/255)\n",
    "plt.show()"
   ]
  },
  {
   "cell_type": "markdown",
   "metadata": {},
   "source": [
    "### Input Images"
   ]
  },
  {
   "cell_type": "code",
   "execution_count": null,
   "metadata": {},
   "outputs": [],
   "source": [
    "fig, ax = plt.subplots(1, 1)\n",
    "ax.imshow(np.moveaxis(image.detach().cpu().numpy(), (0, 1, 2), (2, 0, 1)))\n",
    "plt.show()\n",
    "\n",
    "# fig, ax = plt.subplots(1, 1)\n",
    "# ax.imshow(np.moveaxis(imgs[1].detach().cpu().numpy(), (0, 1, 2), (2, 0, 1)))\n",
    "# plt.show()\n",
    "\n",
    "# fig, ax = plt.subplots(1, 1)\n",
    "# ax.imshow(np.moveaxis(imgs[2].detach().cpu().numpy(), (0, 1, 2), (2, 0, 1)))\n",
    "# plt.show()\n",
    "\n",
    "# fig, ax = plt.subplots(1, 1)\n",
    "# ax.imshow(np.moveaxis(imgs[3].detach().cpu().numpy(), (0, 1, 2), (2, 0, 1)))\n",
    "# plt.show()\n",
    "\n",
    "# fig, ax = plt.subplots(1, 1)\n",
    "# ax.imshow(np.moveaxis(imgs[4].detach().cpu().numpy(), (0, 1, 2), (2, 0, 1)))\n",
    "# plt.show()"
   ]
  },
  {
   "cell_type": "markdown",
   "metadata": {},
   "source": [
    "### Pairwise Distances"
   ]
  },
  {
   "cell_type": "code",
   "execution_count": null,
   "metadata": {},
   "outputs": [],
   "source": [
    "from sklearn.metrics.pairwise import euclidean_distances\n",
    "X = z_what_pres.detach().cpu().numpy()\n",
    "dist_mat = euclidean_distances(X, X)\n",
    "\n",
    "fig, ax  = plt.subplots(1, 1)\n",
    "ax.imshow(dist_mat)\n",
    "plt.show()"
   ]
  },
  {
   "cell_type": "code",
   "execution_count": null,
   "metadata": {},
   "outputs": [],
   "source": []
  }
 ],
 "metadata": {
  "kernelspec": {
   "display_name": "Python 3",
   "language": "python",
   "name": "python3"
  },
  "language_info": {
   "codemirror_mode": {
    "name": "ipython",
    "version": 3
   },
   "file_extension": ".py",
   "mimetype": "text/x-python",
   "name": "python",
   "nbconvert_exporter": "python",
   "pygments_lexer": "ipython3",
   "version": "3.8.12"
  }
 },
 "nbformat": 4,
 "nbformat_minor": 5
}
